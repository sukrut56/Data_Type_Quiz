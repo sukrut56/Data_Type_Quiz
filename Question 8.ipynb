{
 "cells": [
  {
   "cell_type": "code",
   "execution_count": 3,
   "id": "900d1b15",
   "metadata": {},
   "outputs": [],
   "source": [
    "Weight = 60\t\t# Since Susan weighs 60Kg, I assigned weight variable the value 60\n",
    "Height = 1.58 \t# Assigned height variable the value of 1.58 "
   ]
  },
  {
   "cell_type": "code",
   "execution_count": 4,
   "id": "644c3f06",
   "metadata": {},
   "outputs": [],
   "source": [
    "BMI = float(Weight) / Height**2\t\t#Since we cannot divide integer and float, I had to convert integer type to float and then calculated the BMI"
   ]
  },
  {
   "cell_type": "code",
   "execution_count": 5,
   "id": "3bb0d8b5",
   "metadata": {},
   "outputs": [
    {
     "name": "stdout",
     "output_type": "stream",
     "text": [
      "24.034609838166958\n"
     ]
    }
   ],
   "source": [
    "print(BMI)"
   ]
  },
  {
   "cell_type": "code",
   "execution_count": null,
   "id": "39a11839",
   "metadata": {},
   "outputs": [],
   "source": []
  }
 ],
 "metadata": {
  "kernelspec": {
   "display_name": "Python 3 (ipykernel)",
   "language": "python",
   "name": "python3"
  },
  "language_info": {
   "codemirror_mode": {
    "name": "ipython",
    "version": 3
   },
   "file_extension": ".py",
   "mimetype": "text/x-python",
   "name": "python",
   "nbconvert_exporter": "python",
   "pygments_lexer": "ipython3",
   "version": "3.9.7"
  }
 },
 "nbformat": 4,
 "nbformat_minor": 5
}
