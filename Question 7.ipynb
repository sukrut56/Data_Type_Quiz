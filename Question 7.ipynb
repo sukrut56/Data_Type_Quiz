{
 "cells": [
  {
   "cell_type": "code",
   "execution_count": 1,
   "id": "7f49ab89",
   "metadata": {},
   "outputs": [],
   "source": [
    "Medication = 5 \t\t# Jack has been prescribed 5 medications, hence I made a variable named medication and store 5 in it "
   ]
  },
  {
   "cell_type": "code",
   "execution_count": 2,
   "id": "d4a8619d",
   "metadata": {},
   "outputs": [
    {
     "name": "stdout",
     "output_type": "stream",
     "text": [
      "<class 'int'>\n"
     ]
    }
   ],
   "source": [
    "print(type(Medication))\t\t# In order to find the type Medication has, I used type function "
   ]
  },
  {
   "cell_type": "code",
   "execution_count": null,
   "id": "dcee69d4",
   "metadata": {},
   "outputs": [],
   "source": []
  }
 ],
 "metadata": {
  "kernelspec": {
   "display_name": "Python 3 (ipykernel)",
   "language": "python",
   "name": "python3"
  },
  "language_info": {
   "codemirror_mode": {
    "name": "ipython",
    "version": 3
   },
   "file_extension": ".py",
   "mimetype": "text/x-python",
   "name": "python",
   "nbconvert_exporter": "python",
   "pygments_lexer": "ipython3",
   "version": "3.9.7"
  }
 },
 "nbformat": 4,
 "nbformat_minor": 5
}
